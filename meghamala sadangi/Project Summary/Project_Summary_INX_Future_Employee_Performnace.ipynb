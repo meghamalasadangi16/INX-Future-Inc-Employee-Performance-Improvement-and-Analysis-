{
 "cells": [
  {
   "cell_type": "markdown",
   "id": "b981d5c7",
   "metadata": {},
   "source": [
    "# Project Title : INX Future Inc Employee Performance Improvement and Analysis "
   ]
  },
  {
   "cell_type": "markdown",
   "id": "c5c91dcc",
   "metadata": {},
   "source": [
    "# Project Summary"
   ]
  },
  {
   "cell_type": "markdown",
   "id": "596ccfe0",
   "metadata": {},
   "source": [
    "## Project Description:\n",
    "* INX is a leading data analytics and automation solutions provider with a strong global presence spanning over 15 years. Despite INX's reputation as one of the top 20 best employers for the past five years, recent trends indicate declining employee performance indexes and growing concerns within the top management. Service delivery escalations have increased, and client satisfaction levels have dropped by 8 percentage points.\n",
    "\n",
    "* INX's CEO, Mr. Brain, recognizes these challenges but is hesitant to take punitive actions against underperforming employees due to concerns about their impact on overall employee morale and the company's image as an employer of choice.\n",
    "\n",
    "* To address these issues and make informed decisions, Mr. Brain has decided to initiate a data science project. This project will analyze the current employee data to uncover the underlying causes of the performance issues and provide actionable insights.\n",
    "\n",
    "## Project Objectives:\n",
    "* Identify the root causes of declining employee performance within INX.\n",
    "* Provide clear indicators to distinguish non-performing employees.\n",
    "* Develop strategies and recommendations to address performance issues while minimizing the impact on overall employee morale.\n",
    "* Preserve INX's reputation as a top employer and maintain its ability to attract top talent."
   ]
  },
  {
   "cell_type": "markdown",
   "id": "7dc21715",
   "metadata": {},
   "source": [
    "## Project Scope:\n",
    "* This project will focus on analyzing employee data to understand factors affecting performance.\n",
    "* Recommendations will be made to address performance issues while considering overall employee morale and the company's image."
   ]
  },
  {
   "cell_type": "markdown",
   "id": "d7df89d5",
   "metadata": {},
   "source": [
    "## Key Aspects:"
   ]
  },
  {
   "cell_type": "markdown",
   "id": "78ed1010",
   "metadata": {},
   "source": [
    "### Exploratory Data Analysis of Univariate and Bivariate Analysis was Conducted to Extract Insights:\n",
    "Univariate analysis sheds light on the distribution of numerical data and provides a count of categorical values within the dataset. Bivariate analysis, on the other hand, offers insights by comparing numerical and categorical data with performance metrics."
   ]
  },
  {
   "cell_type": "markdown",
   "id": "e7de5e4a",
   "metadata": {},
   "source": [
    "### Top three factors affecting performance:\n",
    "Using the Random Forest classifier algorithm, identified the top three factors that significantly affect employee performance."
   ]
  },
  {
   "cell_type": "markdown",
   "id": "503b2b09",
   "metadata": {},
   "source": [
    "### Department Vs Performance Analysis:\n",
    " For the Department vs. Performance analysis, each department is individually examined, focusing on key input features influencing performance.\n",
    " \n",
    "### Sales:\n",
    "In the Sales department, higher salary hikes, high work environment satisfaction, recent promotions, 1-15 years of experience, and less than 12 years at the company contribute to excellent performance.\n",
    "\n",
    "### Human Resource:\n",
    "In HR, higher salary hikes correlate with outstanding performance, while low hikes indicate good performance. High work environment satisfaction is linked to better performance. Recent promotions and 3-5 years at the company or in the current role tend to result in excellent performance.\n",
    "\n",
    "### Development Department:\n",
    "In the Development department, higher salary hikes align with increased employee performance. Regardless of work environment satisfaction or years since their last promotion, most employees demonstrate excellent performance. Total work experience of 1-12 years is associated with outstanding performance, but over 12 years can lead to lower performance.\n",
    "\n",
    "### Data Science:\n",
    "In Data Science, a salary hike of over 21% correlates with excellent performance, while work environment satisfaction affects performance. High satisfaction and shorter tenures in the current role lead to outstanding performance.\n",
    "\n",
    "### Research & Development:\n",
    "In R&D, higher salary hikes link to improved performance. High environment satisfaction leads to excellence. Recent and 13+ years old promotions and less than 22 years of experience are performance indicators.\n",
    "\n",
    "### Finance Department:\n",
    "In Finance, higher salary hikes and high work environment satisfaction lead to improved and excellent performance, respectively. Recent promotions and long tenure at the company or in the current role are also associated with excellent performance."
   ]
  },
  {
   "cell_type": "markdown",
   "id": "91cd5459",
   "metadata": {},
   "source": [
    "## Outlier Handling:\n",
    "Outliers were identified by creating box plots for numerical features. Given that the data is not normally distributed, the IQR method was employed to detect outliers, and they were subsequently replaced with the median."
   ]
  },
  {
   "cell_type": "markdown",
   "id": "2bba2865",
   "metadata": {},
   "source": [
    "## Encoding Categorical features:\n",
    "Categorical variables are transformed into numerical format using different encoding methods, including Label Encoding, One-Hot Encoding, and Frequency Encoding."
   ]
  },
  {
   "cell_type": "markdown",
   "id": "4592d8aa",
   "metadata": {},
   "source": [
    "## Feature selection and Feature transformation:\n",
    "Analyzed the correlation between each numerical variable and created a heatmap for visualization. Highly correlated variables were removed before model building. Also calculated the skewness and kurtosis of numerical data and applied square root transformation to non-fairly symmetrical numerical variables."
   ]
  },
  {
   "cell_type": "markdown",
   "id": "a28989a6",
   "metadata": {},
   "source": [
    "## Machine Learning Model Building\n",
    "The trained model is created using a machine learning algorithm and evaluated using metrics. Accuracy score and a confusion matrix were calculated to assess the model's performance. Hyperparameter tuning was conducted to improve the model's performance by adjusting it with optimal parameters, and cross-validation scores were calculated to evaluate the model's quality. The following models were created,\n",
    "* Logistic Regression\n",
    "* Support vector classifier\n",
    "* Decision Tree classifier\n",
    "* Random Forest classifier\n",
    "* XG Boosting Classifier\n",
    "* Artificial Neural Network Classifier"
   ]
  },
  {
   "cell_type": "markdown",
   "id": "33314968",
   "metadata": {},
   "source": [
    "## Recommendations to Improve Employee Performance:\n",
    "* EmpLastSalaryHikePercent, EmpEnvironmentSatisfaction, and YearsSinceLastPromotion are three significant factors impacting employee performance. The organization should prioritize these areas to improve employee performance.\n",
    "\n",
    "* In HR and Finance, fresh employees and those with less than three years of experience did not perform well. The organization should focus on providing proper training and support to these newcomers.\n",
    "\n",
    "* Work-life balance significantly affects employee performance ratings. The organization should ensure employees are satisfied with both their work and personal lives.\n",
    "\n",
    "* Performance in the Development and Research & Development departments exceeded that in other departments. The organization should allocate more attention to improving performance in other departments.\n",
    "\n",
    "* Providing salary hikes can improve employee performance and enhance their economic well-being.\n",
    "\n",
    "* Promotions should be offered to encourage better performance, as they serve as a form of recognition and appreciation for employees.\n",
    "\n",
    "* The organization should place a greater emphasis on improving the work environment for employees.\n",
    "\n",
    "* Employees' managers should be replaced every three to four years, as working with the same manager for an extended period can negatively affect employee performance."
   ]
  },
  {
   "cell_type": "markdown",
   "id": "6e6cfa6b",
   "metadata": {},
   "source": [
    "### Requirement Data from third party sources:\n",
    "The employee performance date of INX Future Inc. can be download from below link.\n",
    "http://data.iabac.org/exam/p2/data/INX_Future_Inc_Employee_Performance_CDS_Project2_Data_V1.8.xls"
   ]
  },
  {
   "cell_type": "code",
   "execution_count": null,
   "id": "e539907a",
   "metadata": {},
   "outputs": [],
   "source": []
  }
 ],
 "metadata": {
  "kernelspec": {
   "display_name": "Python 3 (ipykernel)",
   "language": "python",
   "name": "python3"
  },
  "language_info": {
   "codemirror_mode": {
    "name": "ipython",
    "version": 3
   },
   "file_extension": ".py",
   "mimetype": "text/x-python",
   "name": "python",
   "nbconvert_exporter": "python",
   "pygments_lexer": "ipython3",
   "version": "3.10.9"
  }
 },
 "nbformat": 4,
 "nbformat_minor": 5
}
